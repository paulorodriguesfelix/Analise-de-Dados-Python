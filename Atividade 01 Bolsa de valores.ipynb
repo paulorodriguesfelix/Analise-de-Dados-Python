{
 "cells": [
  {
   "cell_type": "code",
   "execution_count": 2,
   "id": "4695e981",
   "metadata": {
    "scrolled": true
   },
   "outputs": [],
   "source": [
    "#  Usar arquivos .csv (estão em anexo) com as cotações de 100 dias de 5 papéis da Bolsa.\n",
    "#  Importar os arquivos usando a biblioteca Pandas para DataFrames individuais.\n",
    "#  Criar um novo DataFrame contendo as colunas de Data e o Preço de Fechamento de cada um dos papéis. \n",
    "#  Os rótulos das colunas devem ser a palavra \"Data\" e os tickers (símbolos) de cada ação."
   ]
  },
  {
   "cell_type": "code",
   "execution_count": 21,
   "id": "1621ae30",
   "metadata": {},
   "outputs": [
    {
     "name": "stdout",
     "output_type": "stream",
     "text": [
      "          DATA  VALE3  UNIP6  PETR4  VIVT3  SBSP3\n",
      "0   05/09/2023  69.10  79.99  33.37  41.46  58.57\n",
      "1   04/09/2023  69.40  78.72  32.29  41.62  58.85\n",
      "2   01/09/2023  68.89  79.64  32.63  41.68  58.72\n",
      "3   31/08/2023  65.08  77.30  31.94  41.21  57.92\n",
      "4   30/08/2023  64.98  79.47  32.62  41.88  58.75\n",
      "..         ...    ...    ...    ...    ...    ...\n",
      "95  20/04/2023  72.80  66.66  21.63  40.28  47.41\n",
      "96  19/04/2023  74.35  67.10  21.49  40.19  46.98\n",
      "97  18/04/2023  76.59  67.93  22.20  40.33  46.45\n",
      "98  17/04/2023  75.93  67.50  21.65  40.35  47.81\n",
      "99  14/04/2023  76.85  67.49  21.32  39.94  48.47\n",
      "\n",
      "[100 rows x 6 columns]\n"
     ]
    }
   ],
   "source": [
    "import csv\n",
    "import pandas as pd\n",
    "import matplotlib.pyplot as plt\n",
    "\n",
    "vale3 = pd.read_csv(\"VALE3.csv\")\n",
    "unip6 = pd.read_csv(\"UNIP6.csv\")\n",
    "petr4 = pd.read_csv(\"PETR4.csv\")\n",
    "vivt3 = pd.read_csv(\"VIVT3.csv\")\n",
    "sbsp3 = pd.read_csv(\"SBSP3.csv\")\n",
    "\n",
    "vale = pd.DataFrame(vale3)\n",
    "unip = pd.DataFrame(unip6)\n",
    "petr = pd.DataFrame(petr4)\n",
    "vivt = pd.DataFrame(vivt3)\n",
    "sbsp = pd.DataFrame(sbsp3)\n",
    "\n",
    "\n",
    "dados = pd.DataFrame(vale[\"DATA\"])\n",
    "\n",
    "\n",
    "vale['FECHAMENTO'] = vale['FECHAMENTO'].str.replace(',','.')\n",
    "vale['FECHAMENTO'] = vale['FECHAMENTO'].astype(float)\n",
    "dados[\"VALE3\"] = vale[\"FECHAMENTO\"]\n",
    "\n",
    "unip['FECHAMENTO'] = unip['FECHAMENTO'].str.replace(',','.')\n",
    "unip['FECHAMENTO'] = unip['FECHAMENTO'].astype(float)\n",
    "dados[\"UNIP6\"] = unip[\"FECHAMENTO\"]\n",
    "\n",
    "petr['FECHAMENTO'] = petr['FECHAMENTO'].str.replace(',','.')\n",
    "petr['FECHAMENTO'] = petr['FECHAMENTO'].astype(float)\n",
    "dados[\"PETR4\"] = petr[\"FECHAMENTO\"]\n",
    "\n",
    "vivt['FECHAMENTO'] = vivt['FECHAMENTO'].str.replace(',','.')\n",
    "vivt['FECHAMENTO'] = vivt['FECHAMENTO'].astype(float)\n",
    "dados[\"VIVT3\"] = vivt[\"FECHAMENTO\"]\n",
    "\n",
    "sbsp['FECHAMENTO'] = sbsp['FECHAMENTO'].str.replace(',','.')\n",
    "sbsp['FECHAMENTO'] = sbsp['FECHAMENTO'].astype(float)\n",
    "dados[\"SBSP3\"] = sbsp[\"FECHAMENTO\"]\n",
    "\n",
    "dados.to_csv(\"comparação_ações.csv\")\n",
    "print(dados)\n"
   ]
  },
  {
   "cell_type": "code",
   "execution_count": 4,
   "id": "7f086712",
   "metadata": {},
   "outputs": [],
   "source": [
    " #  Qual o preço médio das ações da Companhia Vale no período?\n",
    "    \n",
    "    "
   ]
  },
  {
   "cell_type": "code",
   "execution_count": 5,
   "id": "a3ad4886",
   "metadata": {},
   "outputs": [
    {
     "name": "stdout",
     "output_type": "stream",
     "text": [
      "Preço médio das ações da Companhia Vale: 66.14\n"
     ]
    }
   ],
   "source": [
    "medvale = vale['FECHAMENTO'].mean()\n",
    "print(f\"Preço médio das ações da Companhia Vale: {round(medvale, 2)}\")\n",
    "\n",
    "\n",
    "\n"
   ]
  },
  {
   "cell_type": "code",
   "execution_count": 6,
   "id": "73b9924b",
   "metadata": {},
   "outputs": [],
   "source": [
    "#  Quais os preços máximo e mínimo que o papel da Unipar alcançou? Em quais datas?\n",
    "\n"
   ]
  },
  {
   "cell_type": "code",
   "execution_count": 7,
   "id": "44e5dabf",
   "metadata": {},
   "outputs": [
    {
     "name": "stdout",
     "output_type": "stream",
     "text": [
      "Preço Minimo UNIP6: 62.02 Dia 03/05/2023\n",
      "Preço Máximo UNIP6: 83.19 dia 04/07/2023\n"
     ]
    }
   ],
   "source": [
    "dtmUni = unip.loc[unip['FECHAMENTO'].idxmin()]['DATA']\n",
    "dtxUni = unip.loc[unip['FECHAMENTO'].idxmax()]['DATA']\n",
    "\n",
    "precoMax = unip['FECHAMENTO'].max()\n",
    "precoMin = unip['FECHAMENTO'].min()\n",
    "\n",
    "print(f'Preço Minimo UNIP6: {precoMin} Dia {dtmUni}')\n",
    "print(f'Preço Máximo UNIP6: {precoMax} dia {dtxUni}')"
   ]
  },
  {
   "cell_type": "code",
   "execution_count": 8,
   "id": "419f5693",
   "metadata": {},
   "outputs": [
    {
     "name": "stdout",
     "output_type": "stream",
     "text": [
      "          DATA ABERTURA  FECHAMENTO VARIAÇÃO MÍNIMO MÁXIMO   VOLUME\n",
      "0   05/09/2023    41,51       41.46    -0,38  41,11  42,12  107,08M\n",
      "1   04/09/2023    41,68       41.62    -0,14  41,24  41,85   41,38M\n",
      "2   01/09/2023    41,48       41.68     1,14  41,16  42,05  130,92M\n",
      "3   31/08/2023    42,10       41.21    -1,59  41,21  42,30  160,45M\n",
      "4   30/08/2023    42,79       41.88    -1,73  41,88  42,85   55,08M\n",
      "..         ...      ...         ...      ...    ...    ...      ...\n",
      "95  20/04/2023    40,45       40.28     0,22  39,59  40,45  113,42M\n",
      "96  19/04/2023    40,32       40.19    -0,34  40,12  40,76  110,04M\n",
      "97  18/04/2023    40,35       40.33    -0,05  40,12  40,44   99,40M\n",
      "98  17/04/2023    40,50       40.35     1,01  40,01  40,55   44,19M\n",
      "99  14/04/2023    39,76       39.94     0,25  39,45  40,06   62,37M\n",
      "\n",
      "[100 rows x 7 columns]\n"
     ]
    }
   ],
   "source": [
    "#  Se um investidor tivesse adquirido 2000 ações da Vivo no 10º dia do período, \n",
    "#  qual seria o valor total dos papéis no 70º dia do investimento?\n",
    "#  O investidor teria lucro ou prejuízo? De quantos reais?\n",
    "\n",
    "print(vivt)"
   ]
  },
  {
   "cell_type": "code",
   "execution_count": 9,
   "id": "8fe0039f",
   "metadata": {},
   "outputs": [
    {
     "name": "stdout",
     "output_type": "stream",
     "text": [
      "No décimo dia a ação valia R$41.78 Comprando 2.000 ações ficaria o valor: R$83560.0\n",
      "Valor da ação no 70º dia: R$ 40.53 valor das 2.000 ações: R$ 81060.0\n",
      "Lucro ou prejuizo: PREJUIZO no valor de R$: 2500.0\n"
     ]
    }
   ],
   "source": [
    "decimo = vivt.loc[9, 'FECHAMENTO']\n",
    "septu = vivt.loc[69, 'FECHAMENTO']\n",
    "\n",
    "decimoInvest = decimo * 2000\n",
    "septuInvest = septu * 2000\n",
    "\n",
    "\n",
    "if decimoInvest > septuInvest:\n",
    "    invest = 'PREJUIZO'\n",
    "    valor = decimoInvest - septuInvest\n",
    "else:\n",
    "    invest = 'LUCRO'\n",
    "    valor = septuInvest - decimoInvest\n",
    "\n",
    "print(f'No décimo dia a ação valia R${decimo} Comprando 2.000 ações ficaria o valor: R${decimoInvest}')\n",
    "print(f'Valor da ação no 70º dia: R$ {septu} valor das 2.000 ações: R$ {septuInvest}')\n",
    "print(f'Lucro ou prejuizo: {invest} no valor de R$: {valor}')"
   ]
  },
  {
   "cell_type": "code",
   "execution_count": 10,
   "id": "a3781082",
   "metadata": {},
   "outputs": [],
   "source": [
    "#  Caso quiséssemos saber os valores e resultados (L/P) em outros períodos,\n",
    "#  seria necessário criar uma rotina que automatizasse o processo. Crie-a e teste-a.\n",
    "\n"
   ]
  },
  {
   "cell_type": "code",
   "execution_count": 43,
   "id": "656efa9f",
   "metadata": {},
   "outputs": [
    {
     "name": "stdout",
     "output_type": "stream",
     "text": [
      "Indice do dia desejado: 9\n",
      "Indice da venda: 69\n",
      "Quantidade de ações compradas: 2000\n",
      "Dia da compra valia R$41.78 Comprando 2000 ações fica o valor: R$83560.0\n",
      "Valor da ação na venda: R$ 40.53 valor das 2000ações: R$ 81060.0\n",
      "Lucro ou prejuizo: PREJUIZO no valor de R$: 2500.0\n"
     ]
    }
   ],
   "source": [
    "indice =int(input('Indice do dia desejado: '))\n",
    "\n",
    "auto = vivt.loc[indice,'FECHAMENTO']\n",
    "\n",
    "indice2 = int(input('Indice da venda: '))\n",
    "auto2 = vivt.loc[indice2,'FECHAMENTO']\n",
    "\n",
    "compra = int(input('Quantidade de ações compradas: '))\n",
    "dia = auto * compra\n",
    "dia2 = auto2 * compra\n",
    "\n",
    "if dia > dia2:\n",
    "    invest = 'PREJUIZO'\n",
    "    valor = dia - dia2\n",
    "else:\n",
    "    invest = 'LUCRO'\n",
    "    valor = dia2 - dia\n",
    "\n",
    "print(f'Dia da compra valia R${auto} Comprando {compra} ações fica o valor: R${dia}')\n",
    "print(f'Valor da ação na venda: R$ {auto2} valor das {compra}ações: R$ {dia2}')\n",
    "print(f'Lucro ou prejuizo: {invest} no valor de R$: {valor}')"
   ]
  },
  {
   "cell_type": "code",
   "execution_count": 41,
   "id": "b6ffd378",
   "metadata": {},
   "outputs": [],
   "source": [
    " #  Crie um gráfico de linhas que plote os dados dos papéis da Vale, Petrobrás e Sabesp ao longo do período.\n",
    "    \n",
    "    "
   ]
  },
  {
   "cell_type": "code",
   "execution_count": 25,
   "id": "27cd9289",
   "metadata": {},
   "outputs": [
    {
     "data": {
      "image/png": "[encoded data removed]",
      "text/plain": [
       "<Figure size 640x480 with 1 Axes>"
      ]
     },
     "metadata": {},
     "output_type": "display_data"
    }
   ],
   "source": [
    "\n",
    "fig, ax = plt.subplots()\n",
    "\n",
    "ax.plot(vale['FECHAMENTO'], color='green', label = 'VALE')\n",
    "ax.plot(petr['FECHAMENTO'], color='r', label = 'PETROBRÁS')\n",
    "ax.plot(sbsp['FECHAMENTO'], color='b', label = 'SABESP')\n",
    "\n",
    "plt.ylabel('R$')\n",
    "plt.title('COTAÇÃO')\n",
    "ax.set_xlabel('DIAS')\n",
    "ax.legend()\n",
    "\n",
    "\n",
    "plt.show()"
   ]
  },
  {
   "cell_type": "code",
   "execution_count": null,
   "id": "15c51297",
   "metadata": {},
   "outputs": [],
   "source": []
  }
 ],
 "metadata": {
  "kernelspec": {
   "display_name": "Python 3 (ipykernel)",
   "language": "python",
   "name": "python3"
  },
  "language_info": {
   "codemirror_mode": {
    "name": "ipython",
    "version": 3
   },
   "file_extension": ".py",
   "mimetype": "text/x-python",
   "name": "python",
   "nbconvert_exporter": "python",
   "pygments_lexer": "ipython3",
   "version": "3.10.9"
  }
 },
 "nbformat": 4,
 "nbformat_minor": 5
}
